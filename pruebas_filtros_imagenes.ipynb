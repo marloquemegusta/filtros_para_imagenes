{
  "nbformat": 4,
  "nbformat_minor": 0,
  "metadata": {
    "colab": {
      "name": "pruebas_filtros_imagenes",
      "private_outputs": true,
      "provenance": [],
      "collapsed_sections": [
        "oBkFxLkv2ntH"
      ],
      "toc_visible": true
    },
    "kernelspec": {
      "name": "python3",
      "display_name": "Python 3"
    }
  },
  "cells": [
    {
      "cell_type": "code",
      "metadata": {
        "id": "fdB0qNWHQHxP"
      },
      "source": [
        "import cv2\n",
        "from PIL import Image\n",
        "from google.colab.patches import cv2_imshow\n",
        "import numpy as np\n",
        "from sklearn.cluster import KMeans\n",
        "import matplotlib.pyplot as plt\n",
        "from PIL import Image, ImageCms\n",
        "from skimage import feature\n",
        "from sklearn.cluster import MiniBatchKMeans\n",
        "from skimage.util import random_noise\n",
        "import glob\n",
        "\n"
      ],
      "execution_count": null,
      "outputs": []
    },
    {
      "cell_type": "code",
      "metadata": {
        "id": "Vk9HH5-LQxIO"
      },
      "source": [
        "image_paths=glob.glob(\"/content/images/*\")\n",
        "im=Image.open(image_paths[0])\n",
        "ratio=1\n",
        "im=im.resize([int(im.size[i]/ratio) for i in range(len(im.size))])\n",
        "#im=im.rotate(90)\n",
        "im_gray = im.convert('L')\n",
        "im_gray_array = np.asarray(im_gray,dtype=np.float)\n",
        "clahe = cv2.createCLAHE(clipLimit=2.0, tileGridSize=(8,8))\n",
        "im_gray_array = clahe.apply(im_gray_array.astype(\"uint8\"))\n",
        "X=im_gray_array.reshape((-1, 1))\n",
        "Image.fromarray(im_gray_array)"
      ],
      "execution_count": null,
      "outputs": []
    },
    {
      "cell_type": "code",
      "metadata": {
        "id": "PfKibktSAJsE"
      },
      "source": [
        "def valueHistEq(img):\n",
        "  if str(type(img))==\"<class 'PIL.Image.Image'>\":\n",
        "    img=np.asarray(img)  \n",
        "  HSV=cv2.cvtColor(img,cv2.COLOR_BGR2HSV)\n",
        "  HSV[:, :, 2] = cv2.equalizeHist(HSV[:, :, 2])\n",
        "  BGR=cv2.cvtColor(HSV,cv2.COLOR_HSV2BGR,img)\n",
        "  return BGR\n",
        "\n",
        "def clipValueHistEq(img,clipLimit=2.0,girdSize=(8,8)):\n",
        "  if str(type(img))==\"<class 'PIL.Image.Image'>\":\n",
        "    img=np.asarray(img) \n",
        "  HSV=cv2.cvtColor(img,cv2.COLOR_BGR2HSV)\n",
        "  HSV[:, :, 2] = cv2.equalizeHist(HSV[:, :, 2])\n",
        "  BGR=cv2.cvtColor(HSV,cv2.COLOR_HSV2BGR,img)\n",
        "  return BGR\n",
        "\n",
        "def yHistEq(img):\n",
        "  if str(type(img))==\"<class 'PIL.Image.Image'>\":\n",
        "    img=np.asarray(img) \n",
        "  ycrcb=cv2.cvtColor(img,cv2.COLOR_BGR2YCR_CB)\n",
        "  ycrcb[:, :, 0] = cv2.equalizeHist(ycrcb[:, :, 0])\n",
        "  BGR=cv2.cvtColor(ycrcb,cv2.COLOR_YCR_CB2BGR,img)\n",
        "  return BGR\n",
        "\n",
        "\n",
        "def clipYHistEq(img,clipLimit=2.0,girdSize=(8,8)):\n",
        "  if str(type(img))==\"<class 'PIL.Image.Image'>\":\n",
        "    img=np.asarray(img) \n",
        "  ycrcb=cv2.cvtColor(img,cv2.COLOR_BGR2YCR_CB)\n",
        "  clahe = cv2.createCLAHE(clipLimit=2.0, tileGridSize=(8,8))\n",
        "  ycrcb[:, :, 0] = clahe.apply(ycrcb[:, :, 0].astype(\"uint8\"))\n",
        "  BGR=cv2.cvtColor(ycrcb,cv2.COLOR_YCR_CB2BGR,img)\n",
        "  return BGR\n",
        "\n",
        "def get_colorized_edges(img,sigma=2):\n",
        "  img_gray_array=np.asarray(img.convert('L'))\n",
        "  edges=feature.canny(img_gray_array,sigma=sigma).astype(\"uint8\")\n",
        "  kernel=np.ones((3,3))\n",
        "  edges=cv2.dilate(edges,kernel,iterations=1)\n",
        "  edged_im1=cv2.bitwise_and(np.asarray(img),np.asarray(img),mask=edges)\n",
        "  return edged_im1.astype(\"uint8\")\n",
        "\n",
        "def draw_edges_over_image(img,sigma=2,color=(0,0,0),offset=0):\n",
        "  if str(type(img))==\"<class 'PIL.Image.Image'>\":\n",
        "    img_gray_array=np.asarray(img.convert('L'))\n",
        "  elif str(type(img))==\"<class 'numpy.ndarray'>\":\n",
        "    img_gray_array=cv2.cvtColor(img, cv2.COLOR_BGR2GRAY)\n",
        "  else:\n",
        "    print (\"img type {} not supported\".format(type(img)))\n",
        "  edges=feature.canny(img_gray_array,sigma=sigma).astype(\"uint8\")\n",
        "  kernel=np.ones((3,3))\n",
        "  #edges=cv2.dilate(edges,kernel,iterations=1)\n",
        "  edges=np.roll(edges,offset,axis=1)\n",
        "  edges_rgb=cv2.bitwise_and(np.ones(np.array(img).shape)*127,\n",
        "                            np.ones(np.array(img).shape)*127,\n",
        "                            mask=edges).astype(\"uint8\")\n",
        "  edges_rgb=np.where(edges_rgb==(127,127,127),color,(127,127,127))\n",
        "  edged_im2=np.where(edges_rgb!=(127,127,127),edges_rgb,np.array(img))\n",
        "  return edged_im2.astype(\"uint8\")\n",
        "\n",
        "def reduce_color_space(img,ncolors=10):\n",
        "  imlab = cv2.cvtColor(np.array(img), cv2.COLOR_BGR2LAB)\n",
        "  (h, w) = imlab.shape[:2]\n",
        "  imlab = imlab.reshape((imlab.shape[0] * imlab.shape[1], 3))\n",
        "  clt = MiniBatchKMeans(n_clusters =ncolors)\n",
        "  labels = clt.fit_predict(imlab)\n",
        "  quant = clt.cluster_centers_.astype(\"uint8\")[labels]\n",
        "  quant = quant.reshape((h, w, 3))\n",
        "  return cv2.cvtColor(quant, cv2.COLOR_LAB2BGR)\n",
        "\n",
        "def shift_rgb(img,offset=10):\n",
        "  if str(type(img))==\"<class 'PIL.Image.Image'>\":\n",
        "    img=np.asarray(img) \n",
        "  img=img.copy()\n",
        "  for channel in range(img.shape[2]):\n",
        "    img[:,:,channel]=np.roll(img[:,:,channel],offset*channel,axis=1)\n",
        "  return img"
      ],
      "execution_count": null,
      "outputs": []
    },
    {
      "cell_type": "code",
      "metadata": {
        "id": "H2d_R-jF_Hug"
      },
      "source": [
        "Image.fromarray(shift_rgb(im,15))"
      ],
      "execution_count": null,
      "outputs": []
    },
    {
      "cell_type": "code",
      "metadata": {
        "id": "fxYwOxwR2sUD"
      },
      "source": [
        "noise_img = random_noise(np.asarray(im), mode='s&p',amount=0.05)\n",
        "noise_img = np.array(255*noise_img, dtype = 'uint8')\n",
        "Image.fromarray(draw_edges_over_image(reduce_color_space(clipValueHistEq(im),3),\n",
        "                                      color=(255,255,255),\n",
        "                                      offset=0,\n",
        "                                      sigma=4))"
      ],
      "execution_count": null,
      "outputs": []
    },
    {
      "cell_type": "code",
      "metadata": {
        "id": "_fcTux6Xuj98"
      },
      "source": [
        "Image.fromarray(draw_edges_over_image(reduce_color_space(im,6)))"
      ],
      "execution_count": null,
      "outputs": []
    },
    {
      "cell_type": "code",
      "metadata": {
        "id": "PyJI5iKc3ve6"
      },
      "source": [
        " Image.fromarray(get_colorized_edges(im))"
      ],
      "execution_count": null,
      "outputs": []
    },
    {
      "cell_type": "code",
      "metadata": {
        "id": "CaAg7gRIDz08"
      },
      "source": [
        "if np.asarray(im).shape[0]*16/9<np.asarray(im).shape[0]:\n",
        "  stack=np.vstack((np.asarray(im),\n",
        "                   yHistEq(np.asarray(im)),\n",
        "                   valueHistEq(np.asarray(im)),\n",
        "                   clipYHistEq(np.asarray(im)),\n",
        "                   clipValueHistEq(np.asarray(im))))\n",
        "else:\n",
        "  stack=np.hstack((np.asarray(im),\n",
        "                   yHistEq(np.asarray(im)),\n",
        "                   valueHistEq(np.asarray(im)),\n",
        "                   clipYHistEq(np.asarray(im)),\n",
        "                   clipValueHistEq(np.asarray(im))))\n",
        "Image.fromarray(stack.astype(\"uint8\")).save(\"/content/collage.png\")\n",
        "Image.fromarray(stack.astype(\"uint8\"))"
      ],
      "execution_count": null,
      "outputs": []
    },
    {
      "cell_type": "code",
      "metadata": {
        "id": "lMHnl0Z5qADG"
      },
      "source": [
        "cv2.imwrite(\"/content/collage.png\",np.vstack((clipYHistEq(np.asarray(im)),np.asarray(im)))[:,:,::-1])"
      ],
      "execution_count": null,
      "outputs": []
    },
    {
      "cell_type": "code",
      "metadata": {
        "id": "qgl4Dym6a3R0"
      },
      "source": [
        "stack=np.hstack((np.asarray(im),\n",
        "                 clipValueHistEq(clipYHistEq((np.asarray(im)))),\n",
        "                 clipYHistEq(clipValueHistEq((np.asarray(im))))))\n",
        "Image.fromarray(stack.astype(\"uint8\"))"
      ],
      "execution_count": null,
      "outputs": []
    },
    {
      "cell_type": "markdown",
      "metadata": {
        "id": "oBkFxLkv2ntH"
      },
      "source": [
        "# kmeans y tal"
      ]
    },
    {
      "cell_type": "code",
      "metadata": {
        "id": "aZWmQY4bNF_8"
      },
      "source": [
        "Image.fromarray(stack.astype(\"uint8\")).save(\"/content/collage.png\")"
      ],
      "execution_count": null,
      "outputs": []
    },
    {
      "cell_type": "code",
      "metadata": {
        "id": "x3oJse7Uz0-f"
      },
      "source": [
        "srgb_profile = ImageCms.createProfile(\"sRGB\")\n",
        "lab_profile  = ImageCms.createProfile(\"LAB\")\n",
        "\n",
        "rgb2lab_transform = ImageCms.buildTransformFromOpenProfiles(srgb_profile, lab_profile, \"RGB\", \"LAB\")\n",
        "eq_im=Image.fromarray(hisEqulColor(np.asarray(im)))\n",
        "lab_im = ImageCms.applyTransform(eq_im, rgb2lab_transform)"
      ],
      "execution_count": null,
      "outputs": []
    },
    {
      "cell_type": "code",
      "metadata": {
        "id": "lpdLDq1noYgL"
      },
      "source": [
        "n_clusters=5\n",
        "colores=np.random.randint(0,255,(n_clusters,3))\n",
        "k_means = KMeans(n_clusters=n_clusters)\n",
        "k_means.fit(X)\n",
        "etiquetas = k_means.labels_\n",
        "im_kmeans_1=np.array([colores[etiqueta] for etiqueta in etiquetas])\n",
        "im_kmeans_1=im_kmeans_1.reshape((im.size[1],im.size[0],3))\n",
        "\n",
        "if im_compressed.shape[0]>im_compressed.shape[0]:\n",
        "  stack=np.hstack((im_kmeans_1,np.asarray(im)))\n",
        "else:\n",
        "  stack=np.vstack((im_kmeans_1,np.asarray(im)))\n",
        "Image.fromarray(stack.astype(\"uint8\"))"
      ],
      "execution_count": null,
      "outputs": []
    },
    {
      "cell_type": "code",
      "metadata": {
        "id": "TvYjWHuFw3FY"
      },
      "source": [
        "k_means = KMeans(n_clusters=n_clusters)\n",
        "X_2=np.asarray(im).reshape(im.size[0]*im.size[1],3)\n",
        "k_means.fit(X_2)\n",
        "etiquetas = k_means.labels_\n",
        "im_kmeans_2=np.array([colores[etiqueta] for etiqueta in etiquetas])\n",
        "im_kmeans_2=im_kmeans_2.reshape((im.size[1],im.size[0],3))\n",
        "\n",
        "if im_compressed.shape[0]>im_compressed.shape[0]:\n",
        "  stack=np.hstack((im_kmeans_2,np.asarray(im)))\n",
        "else:\n",
        "  stack=np.vstack((im_kmeans_2,np.asarray(im)))\n",
        "Image.fromarray(stack.astype(\"uint8\"))"
      ],
      "execution_count": null,
      "outputs": []
    },
    {
      "cell_type": "code",
      "metadata": {
        "id": "zZxc5-fk0DPL"
      },
      "source": [
        "k_means = KMeans(n_clusters=n_clusters)\n",
        "X_3=np.asarray(lab_im).reshape(lab_im.size[1]*lab_im.size[0],3)\n",
        "k_means.fit(X_3)\n",
        "etiquetas = k_means.labels_\n",
        "im_kmeans_3=np.array([colores[etiqueta] for etiqueta in etiquetas])\n",
        "im_kmeans_3=im_kmeans_3.reshape((im.size[1],im.size[0],3))\n",
        "\n",
        "if im_kmeans_3.shape[0]>im_kmeans_3.shape[0]:\n",
        "  stack=np.hstack((im_kmeans_3,np.asarray(im)))\n",
        "else:\n",
        "  stack=np.vstack((im_kmeans_3,np.asarray(im)))\n",
        "Image.fromarray(stack.astype(\"uint8\"))"
      ],
      "execution_count": null,
      "outputs": []
    },
    {
      "cell_type": "code",
      "metadata": {
        "id": "ssPKt8IeE7V_"
      },
      "source": [
        "collage=np.hstack((im_kmeans_1,im_kmeans_2,im_kmeans_3,im))\n",
        "Image.fromarray(collage.astype(\"uint8\"))"
      ],
      "execution_count": null,
      "outputs": []
    }
  ]
}